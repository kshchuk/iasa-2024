{
 "cells": [
  {
   "cell_type": "code",
   "execution_count": 22,
   "id": "c0e8615c",
   "metadata": {},
   "outputs": [],
   "source": [
    "import os\n",
    "import numpy as np \n",
    "import pandas as pd \n",
    "import warnings\n",
    "import matplotlib.pyplot as plt\n",
    "import plotly.express as px\n",
    "import seaborn as sns\n",
    "warnings.filterwarnings(\"ignore\")\n",
    "pd.set_option(\"display.max_rows\",None)\n",
    "from sklearn import preprocessing\n",
    "import matplotlib \n",
    "matplotlib.style.use('ggplot')\n",
    "from sklearn.preprocessing import LabelEncoder"
   ]
  },
  {
   "cell_type": "code",
   "execution_count": 23,
   "id": "9a551204",
   "metadata": {},
   "outputs": [],
   "source": [
    "all_daily_features = [\"weather_code\", \"temperature_2m_max\", \"temperature_2m_min\", \"temperature_2m_mean\",\n",
    "                      \"sunshine_duration\", \"precipitation_sum\", \"precipitation_hours\", \"wind_speed_10m_max\",\n",
    "                      \"wind_gusts_10m_max\", \"wind_direction_10m_dominant\"]\n",
    "\n",
    "daily_discrete_features = [\"weather_code\", \"wind_direction_10m_dominant\"]\n",
    "\n",
    "all_hourly_features = [\"temperature_2m\", \"relative_humidity_2m\", \"precipitation\", \"weather_code\", \"surface_pressure\",\n",
    "                       \"cloud_cover\", \"wind_speed_10m\", \"wind_direction_10m\", \"wind_gusts_10m\"]\n",
    "\n",
    "hourly_discrete_features = [\"weather_code\", \"wind_direction_10m\"]\n"
   ]
  },
  {
   "cell_type": "code",
   "execution_count": 24,
   "id": "e1529ca1",
   "metadata": {},
   "outputs": [],
   "source": [
    "def prepare_data(df: pd.DataFrame, discrete_features: list[str]) -> pd.DataFrame:\n",
    "    \"\"\"Interpolates missing continuous values and drops rows with missing discrete values.\n",
    "\n",
    "    :param df: (pd.DataFrame) Dataframe with features.\n",
    "    :param discrete_features: (list[str]) List of discrete features.\n",
    "    :return: (pd.DataFrame) Dataframe with interpolated continuous values and dropped rows with missing discrete values.\n",
    "    \"\"\"\n",
    "    df = df.rename(columns={\"date\": \"ds\"})\n",
    "    df = df.dropna(subset=discrete_features)\n",
    "    df = df.interpolate(method=\"linear\", limit_direction=\"both\")\n",
    "    return df"
   ]
  },
  {
   "cell_type": "code",
   "execution_count": 25,
   "id": "263bf058",
   "metadata": {},
   "outputs": [
    {
     "data": {
      "text/html": [
       "<div>\n",
       "<style scoped>\n",
       "    .dataframe tbody tr th:only-of-type {\n",
       "        vertical-align: middle;\n",
       "    }\n",
       "\n",
       "    .dataframe tbody tr th {\n",
       "        vertical-align: top;\n",
       "    }\n",
       "\n",
       "    .dataframe thead th {\n",
       "        text-align: right;\n",
       "    }\n",
       "</style>\n",
       "<table border=\"1\" class=\"dataframe\">\n",
       "  <thead>\n",
       "    <tr style=\"text-align: right;\">\n",
       "      <th></th>\n",
       "      <th>ds</th>\n",
       "      <th>weather_code</th>\n",
       "      <th>temperature_2m_max</th>\n",
       "      <th>temperature_2m_min</th>\n",
       "      <th>temperature_2m_mean</th>\n",
       "      <th>sunshine_duration</th>\n",
       "      <th>precipitation_sum</th>\n",
       "      <th>precipitation_hours</th>\n",
       "      <th>wind_speed_10m_max</th>\n",
       "      <th>wind_gusts_10m_max</th>\n",
       "      <th>wind_direction_10m_dominant</th>\n",
       "    </tr>\n",
       "  </thead>\n",
       "  <tbody>\n",
       "    <tr>\n",
       "      <th>0</th>\n",
       "      <td>2000-01-26</td>\n",
       "      <td>71.0</td>\n",
       "      <td>-10.506001</td>\n",
       "      <td>-13.156</td>\n",
       "      <td>-11.553918</td>\n",
       "      <td>9083.6340</td>\n",
       "      <td>0.2</td>\n",
       "      <td>1.0</td>\n",
       "      <td>16.179985</td>\n",
       "      <td>30.960001</td>\n",
       "      <td>281.16790</td>\n",
       "    </tr>\n",
       "    <tr>\n",
       "      <th>1</th>\n",
       "      <td>2000-01-27</td>\n",
       "      <td>71.0</td>\n",
       "      <td>0.494000</td>\n",
       "      <td>-10.556</td>\n",
       "      <td>-2.191416</td>\n",
       "      <td>0.0000</td>\n",
       "      <td>0.6</td>\n",
       "      <td>6.0</td>\n",
       "      <td>21.530890</td>\n",
       "      <td>38.519997</td>\n",
       "      <td>269.60640</td>\n",
       "    </tr>\n",
       "    <tr>\n",
       "      <th>2</th>\n",
       "      <td>2000-01-28</td>\n",
       "      <td>71.0</td>\n",
       "      <td>1.344000</td>\n",
       "      <td>-0.006</td>\n",
       "      <td>0.639833</td>\n",
       "      <td>0.0000</td>\n",
       "      <td>0.1</td>\n",
       "      <td>1.0</td>\n",
       "      <td>25.223133</td>\n",
       "      <td>41.760002</td>\n",
       "      <td>259.74203</td>\n",
       "    </tr>\n",
       "    <tr>\n",
       "      <th>3</th>\n",
       "      <td>2000-01-29</td>\n",
       "      <td>3.0</td>\n",
       "      <td>0.444000</td>\n",
       "      <td>-2.506</td>\n",
       "      <td>-0.920583</td>\n",
       "      <td>20505.8980</td>\n",
       "      <td>0.0</td>\n",
       "      <td>0.0</td>\n",
       "      <td>23.863409</td>\n",
       "      <td>41.760002</td>\n",
       "      <td>220.79974</td>\n",
       "    </tr>\n",
       "    <tr>\n",
       "      <th>4</th>\n",
       "      <td>2000-01-30</td>\n",
       "      <td>71.0</td>\n",
       "      <td>1.744000</td>\n",
       "      <td>-2.306</td>\n",
       "      <td>0.133583</td>\n",
       "      <td>2038.1252</td>\n",
       "      <td>2.6</td>\n",
       "      <td>10.0</td>\n",
       "      <td>25.567604</td>\n",
       "      <td>44.280000</td>\n",
       "      <td>218.39987</td>\n",
       "    </tr>\n",
       "  </tbody>\n",
       "</table>\n",
       "</div>"
      ],
      "text/plain": [
       "          ds  weather_code  temperature_2m_max  temperature_2m_min  \\\n",
       "0 2000-01-26          71.0          -10.506001             -13.156   \n",
       "1 2000-01-27          71.0            0.494000             -10.556   \n",
       "2 2000-01-28          71.0            1.344000              -0.006   \n",
       "3 2000-01-29           3.0            0.444000              -2.506   \n",
       "4 2000-01-30          71.0            1.744000              -2.306   \n",
       "\n",
       "   temperature_2m_mean  sunshine_duration  precipitation_sum  \\\n",
       "0           -11.553918          9083.6340                0.2   \n",
       "1            -2.191416             0.0000                0.6   \n",
       "2             0.639833             0.0000                0.1   \n",
       "3            -0.920583         20505.8980                0.0   \n",
       "4             0.133583          2038.1252                2.6   \n",
       "\n",
       "   precipitation_hours  wind_speed_10m_max  wind_gusts_10m_max  \\\n",
       "0                  1.0           16.179985           30.960001   \n",
       "1                  6.0           21.530890           38.519997   \n",
       "2                  1.0           25.223133           41.760002   \n",
       "3                  0.0           23.863409           41.760002   \n",
       "4                 10.0           25.567604           44.280000   \n",
       "\n",
       "   wind_direction_10m_dominant  \n",
       "0                    281.16790  \n",
       "1                    269.60640  \n",
       "2                    259.74203  \n",
       "3                    220.79974  \n",
       "4                    218.39987  "
      ]
     },
     "execution_count": 25,
     "metadata": {},
     "output_type": "execute_result"
    }
   ],
   "source": [
    "daily_weather = pd.read_csv(\"daily_weather_history_kyiv_2000-01-26-to-2020-01-26.csv\",\n",
    "                parse_dates=[\"date\"], usecols=all_daily_features + [\"date\"]) \n",
    "\n",
    "daily_weather = prepare_data(daily_weather, daily_discrete_features)\n",
    "\n",
    "daily_weather.head()"
   ]
  },
  {
   "cell_type": "code",
   "execution_count": 26,
   "id": "dba683a8",
   "metadata": {},
   "outputs": [
    {
     "data": {
      "text/html": [
       "<div>\n",
       "<style scoped>\n",
       "    .dataframe tbody tr th:only-of-type {\n",
       "        vertical-align: middle;\n",
       "    }\n",
       "\n",
       "    .dataframe tbody tr th {\n",
       "        vertical-align: top;\n",
       "    }\n",
       "\n",
       "    .dataframe thead th {\n",
       "        text-align: right;\n",
       "    }\n",
       "</style>\n",
       "<table border=\"1\" class=\"dataframe\">\n",
       "  <thead>\n",
       "    <tr style=\"text-align: right;\">\n",
       "      <th></th>\n",
       "      <th>ds</th>\n",
       "      <th>temperature_2m</th>\n",
       "      <th>relative_humidity_2m</th>\n",
       "      <th>precipitation</th>\n",
       "      <th>weather_code</th>\n",
       "      <th>surface_pressure</th>\n",
       "      <th>cloud_cover</th>\n",
       "      <th>wind_speed_10m</th>\n",
       "      <th>wind_direction_10m</th>\n",
       "      <th>wind_gusts_10m</th>\n",
       "    </tr>\n",
       "  </thead>\n",
       "  <tbody>\n",
       "    <tr>\n",
       "      <th>0</th>\n",
       "      <td>2000-01-26 00:00:00</td>\n",
       "      <td>-12.006001</td>\n",
       "      <td>82.65211</td>\n",
       "      <td>0.2</td>\n",
       "      <td>71.0</td>\n",
       "      <td>994.17505</td>\n",
       "      <td>100.0</td>\n",
       "      <td>16.179985</td>\n",
       "      <td>249.14546</td>\n",
       "      <td>30.960001</td>\n",
       "    </tr>\n",
       "    <tr>\n",
       "      <th>1</th>\n",
       "      <td>2000-01-26 01:00:00</td>\n",
       "      <td>-11.556000</td>\n",
       "      <td>83.73142</td>\n",
       "      <td>0.0</td>\n",
       "      <td>71.0</td>\n",
       "      <td>993.62146</td>\n",
       "      <td>100.0</td>\n",
       "      <td>15.042659</td>\n",
       "      <td>248.96242</td>\n",
       "      <td>29.160000</td>\n",
       "    </tr>\n",
       "    <tr>\n",
       "      <th>2</th>\n",
       "      <td>2000-01-26 02:00:00</td>\n",
       "      <td>-11.156000</td>\n",
       "      <td>84.46571</td>\n",
       "      <td>0.0</td>\n",
       "      <td>71.0</td>\n",
       "      <td>993.06400</td>\n",
       "      <td>100.0</td>\n",
       "      <td>13.320000</td>\n",
       "      <td>251.07526</td>\n",
       "      <td>27.000000</td>\n",
       "    </tr>\n",
       "    <tr>\n",
       "      <th>3</th>\n",
       "      <td>2000-01-26 03:00:00</td>\n",
       "      <td>-10.806000</td>\n",
       "      <td>85.53970</td>\n",
       "      <td>0.0</td>\n",
       "      <td>71.0</td>\n",
       "      <td>992.99286</td>\n",
       "      <td>100.0</td>\n",
       "      <td>11.720751</td>\n",
       "      <td>259.38040</td>\n",
       "      <td>24.840000</td>\n",
       "    </tr>\n",
       "    <tr>\n",
       "      <th>4</th>\n",
       "      <td>2000-01-26 04:00:00</td>\n",
       "      <td>-10.506001</td>\n",
       "      <td>86.26622</td>\n",
       "      <td>0.0</td>\n",
       "      <td>71.0</td>\n",
       "      <td>992.91766</td>\n",
       "      <td>100.0</td>\n",
       "      <td>9.366919</td>\n",
       "      <td>272.20255</td>\n",
       "      <td>21.599998</td>\n",
       "    </tr>\n",
       "  </tbody>\n",
       "</table>\n",
       "</div>"
      ],
      "text/plain": [
       "                   ds  temperature_2m  relative_humidity_2m  precipitation  \\\n",
       "0 2000-01-26 00:00:00      -12.006001              82.65211            0.2   \n",
       "1 2000-01-26 01:00:00      -11.556000              83.73142            0.0   \n",
       "2 2000-01-26 02:00:00      -11.156000              84.46571            0.0   \n",
       "3 2000-01-26 03:00:00      -10.806000              85.53970            0.0   \n",
       "4 2000-01-26 04:00:00      -10.506001              86.26622            0.0   \n",
       "\n",
       "   weather_code  surface_pressure  cloud_cover  wind_speed_10m  \\\n",
       "0          71.0         994.17505        100.0       16.179985   \n",
       "1          71.0         993.62146        100.0       15.042659   \n",
       "2          71.0         993.06400        100.0       13.320000   \n",
       "3          71.0         992.99286        100.0       11.720751   \n",
       "4          71.0         992.91766        100.0        9.366919   \n",
       "\n",
       "   wind_direction_10m  wind_gusts_10m  \n",
       "0           249.14546       30.960001  \n",
       "1           248.96242       29.160000  \n",
       "2           251.07526       27.000000  \n",
       "3           259.38040       24.840000  \n",
       "4           272.20255       21.599998  "
      ]
     },
     "execution_count": 26,
     "metadata": {},
     "output_type": "execute_result"
    }
   ],
   "source": [
    "hourly_weather = pd.read_csv(\"hourly_weather_history_kyiv_2000-01-26-to-2020-01-26.csv\",\n",
    "                parse_dates=[\"date\"], usecols=all_hourly_features + [\"date\"])\n",
    "\n",
    "hourly_weather = prepare_data(hourly_weather, hourly_discrete_features)\n",
    "\n",
    "hourly_weather.head()"
   ]
  },
  {
   "cell_type": "code",
   "execution_count": 27,
   "id": "400f847a",
   "metadata": {},
   "outputs": [
    {
     "data": {
      "text/html": [
       "<div>\n",
       "<style scoped>\n",
       "    .dataframe tbody tr th:only-of-type {\n",
       "        vertical-align: middle;\n",
       "    }\n",
       "\n",
       "    .dataframe tbody tr th {\n",
       "        vertical-align: top;\n",
       "    }\n",
       "\n",
       "    .dataframe thead th {\n",
       "        text-align: right;\n",
       "    }\n",
       "</style>\n",
       "<table border=\"1\" class=\"dataframe\">\n",
       "  <thead>\n",
       "    <tr style=\"text-align: right;\">\n",
       "      <th></th>\n",
       "      <th>count</th>\n",
       "      <th>mean</th>\n",
       "      <th>min</th>\n",
       "      <th>25%</th>\n",
       "      <th>50%</th>\n",
       "      <th>75%</th>\n",
       "      <th>max</th>\n",
       "      <th>std</th>\n",
       "    </tr>\n",
       "  </thead>\n",
       "  <tbody>\n",
       "    <tr>\n",
       "      <th>ds</th>\n",
       "      <td>7306</td>\n",
       "      <td>2010-01-25 12:00:00</td>\n",
       "      <td>2000-01-26 00:00:00</td>\n",
       "      <td>2005-01-25 06:00:00</td>\n",
       "      <td>2010-01-25 12:00:00</td>\n",
       "      <td>2015-01-25 18:00:00</td>\n",
       "      <td>2020-01-26 00:00:00</td>\n",
       "      <td>NaN</td>\n",
       "    </tr>\n",
       "    <tr>\n",
       "      <th>weather_code</th>\n",
       "      <td>7306.0</td>\n",
       "      <td>32.012866</td>\n",
       "      <td>0.0</td>\n",
       "      <td>3.0</td>\n",
       "      <td>51.0</td>\n",
       "      <td>55.0</td>\n",
       "      <td>75.0</td>\n",
       "      <td>29.477779</td>\n",
       "    </tr>\n",
       "    <tr>\n",
       "      <th>temperature_2m_max</th>\n",
       "      <td>7306.0</td>\n",
       "      <td>12.394484</td>\n",
       "      <td>-22.206</td>\n",
       "      <td>3.122</td>\n",
       "      <td>12.894</td>\n",
       "      <td>21.644</td>\n",
       "      <td>36.394</td>\n",
       "      <td>10.905481</td>\n",
       "    </tr>\n",
       "    <tr>\n",
       "      <th>temperature_2m_min</th>\n",
       "      <td>7306.0</td>\n",
       "      <td>5.225</td>\n",
       "      <td>-30.756</td>\n",
       "      <td>-1.306</td>\n",
       "      <td>5.544</td>\n",
       "      <td>13.172</td>\n",
       "      <td>24.394</td>\n",
       "      <td>9.229645</td>\n",
       "    </tr>\n",
       "    <tr>\n",
       "      <th>temperature_2m_mean</th>\n",
       "      <td>7306.0</td>\n",
       "      <td>8.921002</td>\n",
       "      <td>-26.074747</td>\n",
       "      <td>0.932021</td>\n",
       "      <td>9.358584</td>\n",
       "      <td>17.541396</td>\n",
       "      <td>30.100248</td>\n",
       "      <td>9.975078</td>\n",
       "    </tr>\n",
       "    <tr>\n",
       "      <th>sunshine_duration</th>\n",
       "      <td>7306.0</td>\n",
       "      <td>26750.327169</td>\n",
       "      <td>0.0</td>\n",
       "      <td>8399.5415</td>\n",
       "      <td>29156.1015</td>\n",
       "      <td>43364.157</td>\n",
       "      <td>54310.984</td>\n",
       "      <td>18301.392213</td>\n",
       "    </tr>\n",
       "    <tr>\n",
       "      <th>precipitation_sum</th>\n",
       "      <td>7306.0</td>\n",
       "      <td>1.611922</td>\n",
       "      <td>0.0</td>\n",
       "      <td>0.0</td>\n",
       "      <td>0.0</td>\n",
       "      <td>1.5</td>\n",
       "      <td>51.7</td>\n",
       "      <td>3.604482</td>\n",
       "    </tr>\n",
       "    <tr>\n",
       "      <th>precipitation_hours</th>\n",
       "      <td>7306.0</td>\n",
       "      <td>3.215987</td>\n",
       "      <td>0.0</td>\n",
       "      <td>0.0</td>\n",
       "      <td>0.0</td>\n",
       "      <td>5.0</td>\n",
       "      <td>24.0</td>\n",
       "      <td>4.868443</td>\n",
       "    </tr>\n",
       "    <tr>\n",
       "      <th>wind_speed_10m_max</th>\n",
       "      <td>7306.0</td>\n",
       "      <td>17.226803</td>\n",
       "      <td>4.896529</td>\n",
       "      <td>12.924952</td>\n",
       "      <td>16.563911</td>\n",
       "      <td>20.746122</td>\n",
       "      <td>46.001183</td>\n",
       "      <td>5.798536</td>\n",
       "    </tr>\n",
       "    <tr>\n",
       "      <th>wind_gusts_10m_max</th>\n",
       "      <td>7306.0</td>\n",
       "      <td>34.899649</td>\n",
       "      <td>10.08</td>\n",
       "      <td>27.0</td>\n",
       "      <td>33.839996</td>\n",
       "      <td>41.399998</td>\n",
       "      <td>85.32</td>\n",
       "      <td>11.101074</td>\n",
       "    </tr>\n",
       "    <tr>\n",
       "      <th>wind_direction_10m_dominant</th>\n",
       "      <td>7306.0</td>\n",
       "      <td>196.813003</td>\n",
       "      <td>0.071066</td>\n",
       "      <td>114.251473</td>\n",
       "      <td>204.96156</td>\n",
       "      <td>285.386525</td>\n",
       "      <td>359.99997</td>\n",
       "      <td>102.469525</td>\n",
       "    </tr>\n",
       "  </tbody>\n",
       "</table>\n",
       "</div>"
      ],
      "text/plain": [
       "                              count                 mean                  min  \\\n",
       "ds                             7306  2010-01-25 12:00:00  2000-01-26 00:00:00   \n",
       "weather_code                 7306.0            32.012866                  0.0   \n",
       "temperature_2m_max           7306.0            12.394484              -22.206   \n",
       "temperature_2m_min           7306.0                5.225              -30.756   \n",
       "temperature_2m_mean          7306.0             8.921002           -26.074747   \n",
       "sunshine_duration            7306.0         26750.327169                  0.0   \n",
       "precipitation_sum            7306.0             1.611922                  0.0   \n",
       "precipitation_hours          7306.0             3.215987                  0.0   \n",
       "wind_speed_10m_max           7306.0            17.226803             4.896529   \n",
       "wind_gusts_10m_max           7306.0            34.899649                10.08   \n",
       "wind_direction_10m_dominant  7306.0           196.813003             0.071066   \n",
       "\n",
       "                                             25%                  50%  \\\n",
       "ds                           2005-01-25 06:00:00  2010-01-25 12:00:00   \n",
       "weather_code                                 3.0                 51.0   \n",
       "temperature_2m_max                         3.122               12.894   \n",
       "temperature_2m_min                        -1.306                5.544   \n",
       "temperature_2m_mean                     0.932021             9.358584   \n",
       "sunshine_duration                      8399.5415           29156.1015   \n",
       "precipitation_sum                            0.0                  0.0   \n",
       "precipitation_hours                          0.0                  0.0   \n",
       "wind_speed_10m_max                     12.924952            16.563911   \n",
       "wind_gusts_10m_max                          27.0            33.839996   \n",
       "wind_direction_10m_dominant           114.251473            204.96156   \n",
       "\n",
       "                                             75%                  max  \\\n",
       "ds                           2015-01-25 18:00:00  2020-01-26 00:00:00   \n",
       "weather_code                                55.0                 75.0   \n",
       "temperature_2m_max                        21.644               36.394   \n",
       "temperature_2m_min                        13.172               24.394   \n",
       "temperature_2m_mean                    17.541396            30.100248   \n",
       "sunshine_duration                      43364.157            54310.984   \n",
       "precipitation_sum                            1.5                 51.7   \n",
       "precipitation_hours                          5.0                 24.0   \n",
       "wind_speed_10m_max                     20.746122            46.001183   \n",
       "wind_gusts_10m_max                     41.399998                85.32   \n",
       "wind_direction_10m_dominant           285.386525            359.99997   \n",
       "\n",
       "                                      std  \n",
       "ds                                    NaN  \n",
       "weather_code                    29.477779  \n",
       "temperature_2m_max              10.905481  \n",
       "temperature_2m_min               9.229645  \n",
       "temperature_2m_mean              9.975078  \n",
       "sunshine_duration            18301.392213  \n",
       "precipitation_sum                3.604482  \n",
       "precipitation_hours              4.868443  \n",
       "wind_speed_10m_max               5.798536  \n",
       "wind_gusts_10m_max              11.101074  \n",
       "wind_direction_10m_dominant    102.469525  "
      ]
     },
     "execution_count": 27,
     "metadata": {},
     "output_type": "execute_result"
    }
   ],
   "source": [
    "daily_weather.describe().T"
   ]
  },
  {
   "cell_type": "code",
   "execution_count": 28,
   "id": "a297ad11",
   "metadata": {},
   "outputs": [
    {
     "data": {
      "text/html": [
       "<div>\n",
       "<style scoped>\n",
       "    .dataframe tbody tr th:only-of-type {\n",
       "        vertical-align: middle;\n",
       "    }\n",
       "\n",
       "    .dataframe tbody tr th {\n",
       "        vertical-align: top;\n",
       "    }\n",
       "\n",
       "    .dataframe thead th {\n",
       "        text-align: right;\n",
       "    }\n",
       "</style>\n",
       "<table border=\"1\" class=\"dataframe\">\n",
       "  <thead>\n",
       "    <tr style=\"text-align: right;\">\n",
       "      <th></th>\n",
       "      <th>count</th>\n",
       "      <th>mean</th>\n",
       "      <th>min</th>\n",
       "      <th>25%</th>\n",
       "      <th>50%</th>\n",
       "      <th>75%</th>\n",
       "      <th>max</th>\n",
       "      <th>std</th>\n",
       "    </tr>\n",
       "  </thead>\n",
       "  <tbody>\n",
       "    <tr>\n",
       "      <th>ds</th>\n",
       "      <td>175344</td>\n",
       "      <td>2010-01-25 23:30:00</td>\n",
       "      <td>2000-01-26 00:00:00</td>\n",
       "      <td>2005-01-25 11:45:00</td>\n",
       "      <td>2010-01-25 23:30:00</td>\n",
       "      <td>2015-01-26 11:15:00</td>\n",
       "      <td>2020-01-26 23:00:00</td>\n",
       "      <td>NaN</td>\n",
       "    </tr>\n",
       "    <tr>\n",
       "      <th>temperature_2m</th>\n",
       "      <td>175344.0</td>\n",
       "      <td>8.921002</td>\n",
       "      <td>-30.756</td>\n",
       "      <td>0.844</td>\n",
       "      <td>9.094</td>\n",
       "      <td>17.244</td>\n",
       "      <td>36.394</td>\n",
       "      <td>10.316331</td>\n",
       "    </tr>\n",
       "    <tr>\n",
       "      <th>relative_humidity_2m</th>\n",
       "      <td>175344.0</td>\n",
       "      <td>75.077924</td>\n",
       "      <td>17.341772</td>\n",
       "      <td>63.771412</td>\n",
       "      <td>78.608986</td>\n",
       "      <td>88.5322</td>\n",
       "      <td>100.0</td>\n",
       "      <td>16.43351</td>\n",
       "    </tr>\n",
       "    <tr>\n",
       "      <th>precipitation</th>\n",
       "      <td>175344.0</td>\n",
       "      <td>0.067163</td>\n",
       "      <td>0.0</td>\n",
       "      <td>0.0</td>\n",
       "      <td>0.0</td>\n",
       "      <td>0.0</td>\n",
       "      <td>9.4</td>\n",
       "      <td>0.285724</td>\n",
       "    </tr>\n",
       "    <tr>\n",
       "      <th>weather_code</th>\n",
       "      <td>175344.0</td>\n",
       "      <td>9.883492</td>\n",
       "      <td>0.0</td>\n",
       "      <td>0.0</td>\n",
       "      <td>2.0</td>\n",
       "      <td>3.0</td>\n",
       "      <td>75.0</td>\n",
       "      <td>20.667037</td>\n",
       "    </tr>\n",
       "    <tr>\n",
       "      <th>surface_pressure</th>\n",
       "      <td>175344.0</td>\n",
       "      <td>997.483521</td>\n",
       "      <td>958.85315</td>\n",
       "      <td>992.3611</td>\n",
       "      <td>997.2427</td>\n",
       "      <td>1002.51434</td>\n",
       "      <td>1028.7252</td>\n",
       "      <td>8.213618</td>\n",
       "    </tr>\n",
       "    <tr>\n",
       "      <th>cloud_cover</th>\n",
       "      <td>175344.0</td>\n",
       "      <td>54.425758</td>\n",
       "      <td>0.0</td>\n",
       "      <td>17.4</td>\n",
       "      <td>54.600002</td>\n",
       "      <td>97.2</td>\n",
       "      <td>100.0</td>\n",
       "      <td>38.108624</td>\n",
       "    </tr>\n",
       "    <tr>\n",
       "      <th>wind_speed_10m</th>\n",
       "      <td>175344.0</td>\n",
       "      <td>12.407801</td>\n",
       "      <td>0.0</td>\n",
       "      <td>8.12197</td>\n",
       "      <td>11.631956</td>\n",
       "      <td>15.893093</td>\n",
       "      <td>46.001183</td>\n",
       "      <td>5.664864</td>\n",
       "    </tr>\n",
       "    <tr>\n",
       "      <th>wind_direction_10m</th>\n",
       "      <td>175344.0</td>\n",
       "      <td>196.426509</td>\n",
       "      <td>0.636578</td>\n",
       "      <td>114.44395</td>\n",
       "      <td>201.80147</td>\n",
       "      <td>286.6993</td>\n",
       "      <td>360.0</td>\n",
       "      <td>102.570378</td>\n",
       "    </tr>\n",
       "    <tr>\n",
       "      <th>wind_gusts_10m</th>\n",
       "      <td>175344.0</td>\n",
       "      <td>24.84149</td>\n",
       "      <td>1.44</td>\n",
       "      <td>16.199999</td>\n",
       "      <td>23.4</td>\n",
       "      <td>31.68</td>\n",
       "      <td>85.32</td>\n",
       "      <td>11.042719</td>\n",
       "    </tr>\n",
       "  </tbody>\n",
       "</table>\n",
       "</div>"
      ],
      "text/plain": [
       "                         count                 mean                  min  \\\n",
       "ds                      175344  2010-01-25 23:30:00  2000-01-26 00:00:00   \n",
       "temperature_2m        175344.0             8.921002              -30.756   \n",
       "relative_humidity_2m  175344.0            75.077924            17.341772   \n",
       "precipitation         175344.0             0.067163                  0.0   \n",
       "weather_code          175344.0             9.883492                  0.0   \n",
       "surface_pressure      175344.0           997.483521            958.85315   \n",
       "cloud_cover           175344.0            54.425758                  0.0   \n",
       "wind_speed_10m        175344.0            12.407801                  0.0   \n",
       "wind_direction_10m    175344.0           196.426509             0.636578   \n",
       "wind_gusts_10m        175344.0             24.84149                 1.44   \n",
       "\n",
       "                                      25%                  50%  \\\n",
       "ds                    2005-01-25 11:45:00  2010-01-25 23:30:00   \n",
       "temperature_2m                      0.844                9.094   \n",
       "relative_humidity_2m            63.771412            78.608986   \n",
       "precipitation                         0.0                  0.0   \n",
       "weather_code                          0.0                  2.0   \n",
       "surface_pressure                 992.3611             997.2427   \n",
       "cloud_cover                          17.4            54.600002   \n",
       "wind_speed_10m                    8.12197            11.631956   \n",
       "wind_direction_10m              114.44395            201.80147   \n",
       "wind_gusts_10m                  16.199999                 23.4   \n",
       "\n",
       "                                      75%                  max         std  \n",
       "ds                    2015-01-26 11:15:00  2020-01-26 23:00:00         NaN  \n",
       "temperature_2m                     17.244               36.394   10.316331  \n",
       "relative_humidity_2m              88.5322                100.0    16.43351  \n",
       "precipitation                         0.0                  9.4    0.285724  \n",
       "weather_code                          3.0                 75.0   20.667037  \n",
       "surface_pressure               1002.51434            1028.7252    8.213618  \n",
       "cloud_cover                          97.2                100.0   38.108624  \n",
       "wind_speed_10m                  15.893093            46.001183    5.664864  \n",
       "wind_direction_10m               286.6993                360.0  102.570378  \n",
       "wind_gusts_10m                      31.68                85.32   11.042719  "
      ]
     },
     "execution_count": 28,
     "metadata": {},
     "output_type": "execute_result"
    }
   ],
   "source": [
    "hourly_weather.describe().T"
   ]
  },
  {
   "cell_type": "code",
   "execution_count": 29,
   "id": "ee1f449a",
   "metadata": {},
   "outputs": [
    {
     "data": {
      "application/vnd.plotly.v1+json": {
       "config": {
        "plotlyServerURL": "https://plot.ly"
       },
       "data": [
        {
         "coloraxis": "coloraxis",
         "hovertemplate": "x: %{x}<br>y: %{y}<br>color: %{z}<extra></extra>",
         "name": "0",
         "type": "heatmap",
         "x": [
          "ds",
          "weather_code",
          "temperature_2m_max",
          "temperature_2m_min",
          "temperature_2m_mean",
          "sunshine_duration",
          "precipitation_sum",
          "precipitation_hours",
          "wind_speed_10m_max",
          "wind_gusts_10m_max",
          "wind_direction_10m_dominant"
         ],
         "xaxis": "x",
         "y": [
          "ds",
          "weather_code",
          "temperature_2m_max",
          "temperature_2m_min",
          "temperature_2m_mean",
          "sunshine_duration",
          "precipitation_sum",
          "precipitation_hours",
          "wind_speed_10m_max",
          "wind_gusts_10m_max",
          "wind_direction_10m_dominant"
         ],
         "yaxis": "y",
         "z": [
          [
           1,
           -0.018890685637431397,
           0.04528093575308575,
           0.029652141401974367,
           0.036272385814571234,
           -0.0013413559566064928,
           -0.018148061912919383,
           0.015233182077532928,
           0.02885116800012346,
           0.005403127070566345,
           -0.010517131770555363
          ],
          [
           -0.018890685637431397,
           1,
           -0.14525253005438554,
           -0.0696390996023917,
           -0.11548800908156458,
           -0.31950763117680314,
           0.4660481279689845,
           0.6721760165681762,
           0.28412754664800227,
           0.283901569182748,
           0.1279463313030945
          ],
          [
           0.04528093575308575,
           -0.14525253005438554,
           1,
           0.9577394037846398,
           0.9918701456313247,
           0.7243763896183025,
           0.03460967460928119,
           -0.10792442472008464,
           -0.16247488512613853,
           -0.007549187238491562,
           -0.05405828526696717
          ],
          [
           0.029652141401974367,
           -0.0696390996023917,
           0.9577394037846398,
           1,
           0.9837309026538165,
           0.5859439976321648,
           0.10334552182610572,
           -0.01765417303986603,
           -0.12168937071846007,
           0.026778072804308346,
           -0.02981765034683233
          ],
          [
           0.036272385814571234,
           -0.11548800908156458,
           0.9918701456313247,
           0.9837309026538165,
           1,
           0.6729513894455686,
           0.060657380444501814,
           -0.07240021707836199,
           -0.1489685137703298,
           0.0038200225210099086,
           -0.04480584043292997
          ],
          [
           -0.0013413559566064928,
           -0.31950763117680314,
           0.7243763896183025,
           0.5859439976321648,
           0.6729513894455686,
           1,
           -0.22703576440416015,
           -0.3761293534569437,
           -0.20471037144737028,
           -0.06321998408664266,
           -0.04228319335454074
          ],
          [
           -0.018148061912919383,
           0.4660481279689845,
           0.03460967460928119,
           0.10334552182610572,
           0.060657380444501814,
           -0.22703576440416015,
           1,
           0.7808863659499032,
           0.23798664399748995,
           0.2474784637102197,
           0.010161125798560053
          ],
          [
           0.015233182077532928,
           0.6721760165681762,
           -0.10792442472008464,
           -0.01765417303986603,
           -0.07240021707836199,
           -0.3761293534569437,
           0.7808863659499032,
           1,
           0.29411602382693586,
           0.2815472726402873,
           0.046726202547711294
          ],
          [
           0.02885116800012346,
           0.28412754664800227,
           -0.16247488512613853,
           -0.12168937071846007,
           -0.1489685137703298,
           -0.20471037144737028,
           0.23798664399748995,
           0.29411602382693586,
           1,
           0.9475853496604256,
           0.2256789554037702
          ],
          [
           0.005403127070566345,
           0.283901569182748,
           -0.007549187238491562,
           0.026778072804308346,
           0.0038200225210099086,
           -0.06321998408664266,
           0.2474784637102197,
           0.2815472726402873,
           0.9475853496604256,
           1,
           0.21497671746576946
          ],
          [
           -0.010517131770555363,
           0.1279463313030945,
           -0.05405828526696717,
           -0.02981765034683233,
           -0.04480584043292997,
           -0.04228319335454074,
           0.010161125798560053,
           0.046726202547711294,
           0.2256789554037702,
           0.21497671746576946,
           1
          ]
         ]
        }
       ],
       "layout": {
        "coloraxis": {
         "colorscale": [
          [
           0,
           "#0d0887"
          ],
          [
           0.1111111111111111,
           "#46039f"
          ],
          [
           0.2222222222222222,
           "#7201a8"
          ],
          [
           0.3333333333333333,
           "#9c179e"
          ],
          [
           0.4444444444444444,
           "#bd3786"
          ],
          [
           0.5555555555555556,
           "#d8576b"
          ],
          [
           0.6666666666666666,
           "#ed7953"
          ],
          [
           0.7777777777777778,
           "#fb9f3a"
          ],
          [
           0.8888888888888888,
           "#fdca26"
          ],
          [
           1,
           "#f0f921"
          ]
         ]
        },
        "template": {
         "data": {
          "bar": [
           {
            "error_x": {
             "color": "#2a3f5f"
            },
            "error_y": {
             "color": "#2a3f5f"
            },
            "marker": {
             "line": {
              "color": "#E5ECF6",
              "width": 0.5
             },
             "pattern": {
              "fillmode": "overlay",
              "size": 10,
              "solidity": 0.2
             }
            },
            "type": "bar"
           }
          ],
          "barpolar": [
           {
            "marker": {
             "line": {
              "color": "#E5ECF6",
              "width": 0.5
             },
             "pattern": {
              "fillmode": "overlay",
              "size": 10,
              "solidity": 0.2
             }
            },
            "type": "barpolar"
           }
          ],
          "carpet": [
           {
            "aaxis": {
             "endlinecolor": "#2a3f5f",
             "gridcolor": "white",
             "linecolor": "white",
             "minorgridcolor": "white",
             "startlinecolor": "#2a3f5f"
            },
            "baxis": {
             "endlinecolor": "#2a3f5f",
             "gridcolor": "white",
             "linecolor": "white",
             "minorgridcolor": "white",
             "startlinecolor": "#2a3f5f"
            },
            "type": "carpet"
           }
          ],
          "choropleth": [
           {
            "colorbar": {
             "outlinewidth": 0,
             "ticks": ""
            },
            "type": "choropleth"
           }
          ],
          "contour": [
           {
            "colorbar": {
             "outlinewidth": 0,
             "ticks": ""
            },
            "colorscale": [
             [
              0,
              "#0d0887"
             ],
             [
              0.1111111111111111,
              "#46039f"
             ],
             [
              0.2222222222222222,
              "#7201a8"
             ],
             [
              0.3333333333333333,
              "#9c179e"
             ],
             [
              0.4444444444444444,
              "#bd3786"
             ],
             [
              0.5555555555555556,
              "#d8576b"
             ],
             [
              0.6666666666666666,
              "#ed7953"
             ],
             [
              0.7777777777777778,
              "#fb9f3a"
             ],
             [
              0.8888888888888888,
              "#fdca26"
             ],
             [
              1,
              "#f0f921"
             ]
            ],
            "type": "contour"
           }
          ],
          "contourcarpet": [
           {
            "colorbar": {
             "outlinewidth": 0,
             "ticks": ""
            },
            "type": "contourcarpet"
           }
          ],
          "heatmap": [
           {
            "colorbar": {
             "outlinewidth": 0,
             "ticks": ""
            },
            "colorscale": [
             [
              0,
              "#0d0887"
             ],
             [
              0.1111111111111111,
              "#46039f"
             ],
             [
              0.2222222222222222,
              "#7201a8"
             ],
             [
              0.3333333333333333,
              "#9c179e"
             ],
             [
              0.4444444444444444,
              "#bd3786"
             ],
             [
              0.5555555555555556,
              "#d8576b"
             ],
             [
              0.6666666666666666,
              "#ed7953"
             ],
             [
              0.7777777777777778,
              "#fb9f3a"
             ],
             [
              0.8888888888888888,
              "#fdca26"
             ],
             [
              1,
              "#f0f921"
             ]
            ],
            "type": "heatmap"
           }
          ],
          "heatmapgl": [
           {
            "colorbar": {
             "outlinewidth": 0,
             "ticks": ""
            },
            "colorscale": [
             [
              0,
              "#0d0887"
             ],
             [
              0.1111111111111111,
              "#46039f"
             ],
             [
              0.2222222222222222,
              "#7201a8"
             ],
             [
              0.3333333333333333,
              "#9c179e"
             ],
             [
              0.4444444444444444,
              "#bd3786"
             ],
             [
              0.5555555555555556,
              "#d8576b"
             ],
             [
              0.6666666666666666,
              "#ed7953"
             ],
             [
              0.7777777777777778,
              "#fb9f3a"
             ],
             [
              0.8888888888888888,
              "#fdca26"
             ],
             [
              1,
              "#f0f921"
             ]
            ],
            "type": "heatmapgl"
           }
          ],
          "histogram": [
           {
            "marker": {
             "pattern": {
              "fillmode": "overlay",
              "size": 10,
              "solidity": 0.2
             }
            },
            "type": "histogram"
           }
          ],
          "histogram2d": [
           {
            "colorbar": {
             "outlinewidth": 0,
             "ticks": ""
            },
            "colorscale": [
             [
              0,
              "#0d0887"
             ],
             [
              0.1111111111111111,
              "#46039f"
             ],
             [
              0.2222222222222222,
              "#7201a8"
             ],
             [
              0.3333333333333333,
              "#9c179e"
             ],
             [
              0.4444444444444444,
              "#bd3786"
             ],
             [
              0.5555555555555556,
              "#d8576b"
             ],
             [
              0.6666666666666666,
              "#ed7953"
             ],
             [
              0.7777777777777778,
              "#fb9f3a"
             ],
             [
              0.8888888888888888,
              "#fdca26"
             ],
             [
              1,
              "#f0f921"
             ]
            ],
            "type": "histogram2d"
           }
          ],
          "histogram2dcontour": [
           {
            "colorbar": {
             "outlinewidth": 0,
             "ticks": ""
            },
            "colorscale": [
             [
              0,
              "#0d0887"
             ],
             [
              0.1111111111111111,
              "#46039f"
             ],
             [
              0.2222222222222222,
              "#7201a8"
             ],
             [
              0.3333333333333333,
              "#9c179e"
             ],
             [
              0.4444444444444444,
              "#bd3786"
             ],
             [
              0.5555555555555556,
              "#d8576b"
             ],
             [
              0.6666666666666666,
              "#ed7953"
             ],
             [
              0.7777777777777778,
              "#fb9f3a"
             ],
             [
              0.8888888888888888,
              "#fdca26"
             ],
             [
              1,
              "#f0f921"
             ]
            ],
            "type": "histogram2dcontour"
           }
          ],
          "mesh3d": [
           {
            "colorbar": {
             "outlinewidth": 0,
             "ticks": ""
            },
            "type": "mesh3d"
           }
          ],
          "parcoords": [
           {
            "line": {
             "colorbar": {
              "outlinewidth": 0,
              "ticks": ""
             }
            },
            "type": "parcoords"
           }
          ],
          "pie": [
           {
            "automargin": true,
            "type": "pie"
           }
          ],
          "scatter": [
           {
            "fillpattern": {
             "fillmode": "overlay",
             "size": 10,
             "solidity": 0.2
            },
            "type": "scatter"
           }
          ],
          "scatter3d": [
           {
            "line": {
             "colorbar": {
              "outlinewidth": 0,
              "ticks": ""
             }
            },
            "marker": {
             "colorbar": {
              "outlinewidth": 0,
              "ticks": ""
             }
            },
            "type": "scatter3d"
           }
          ],
          "scattercarpet": [
           {
            "marker": {
             "colorbar": {
              "outlinewidth": 0,
              "ticks": ""
             }
            },
            "type": "scattercarpet"
           }
          ],
          "scattergeo": [
           {
            "marker": {
             "colorbar": {
              "outlinewidth": 0,
              "ticks": ""
             }
            },
            "type": "scattergeo"
           }
          ],
          "scattergl": [
           {
            "marker": {
             "colorbar": {
              "outlinewidth": 0,
              "ticks": ""
             }
            },
            "type": "scattergl"
           }
          ],
          "scattermapbox": [
           {
            "marker": {
             "colorbar": {
              "outlinewidth": 0,
              "ticks": ""
             }
            },
            "type": "scattermapbox"
           }
          ],
          "scatterpolar": [
           {
            "marker": {
             "colorbar": {
              "outlinewidth": 0,
              "ticks": ""
             }
            },
            "type": "scatterpolar"
           }
          ],
          "scatterpolargl": [
           {
            "marker": {
             "colorbar": {
              "outlinewidth": 0,
              "ticks": ""
             }
            },
            "type": "scatterpolargl"
           }
          ],
          "scatterternary": [
           {
            "marker": {
             "colorbar": {
              "outlinewidth": 0,
              "ticks": ""
             }
            },
            "type": "scatterternary"
           }
          ],
          "surface": [
           {
            "colorbar": {
             "outlinewidth": 0,
             "ticks": ""
            },
            "colorscale": [
             [
              0,
              "#0d0887"
             ],
             [
              0.1111111111111111,
              "#46039f"
             ],
             [
              0.2222222222222222,
              "#7201a8"
             ],
             [
              0.3333333333333333,
              "#9c179e"
             ],
             [
              0.4444444444444444,
              "#bd3786"
             ],
             [
              0.5555555555555556,
              "#d8576b"
             ],
             [
              0.6666666666666666,
              "#ed7953"
             ],
             [
              0.7777777777777778,
              "#fb9f3a"
             ],
             [
              0.8888888888888888,
              "#fdca26"
             ],
             [
              1,
              "#f0f921"
             ]
            ],
            "type": "surface"
           }
          ],
          "table": [
           {
            "cells": {
             "fill": {
              "color": "#EBF0F8"
             },
             "line": {
              "color": "white"
             }
            },
            "header": {
             "fill": {
              "color": "#C8D4E3"
             },
             "line": {
              "color": "white"
             }
            },
            "type": "table"
           }
          ]
         },
         "layout": {
          "annotationdefaults": {
           "arrowcolor": "#2a3f5f",
           "arrowhead": 0,
           "arrowwidth": 1
          },
          "autotypenumbers": "strict",
          "coloraxis": {
           "colorbar": {
            "outlinewidth": 0,
            "ticks": ""
           }
          },
          "colorscale": {
           "diverging": [
            [
             0,
             "#8e0152"
            ],
            [
             0.1,
             "#c51b7d"
            ],
            [
             0.2,
             "#de77ae"
            ],
            [
             0.3,
             "#f1b6da"
            ],
            [
             0.4,
             "#fde0ef"
            ],
            [
             0.5,
             "#f7f7f7"
            ],
            [
             0.6,
             "#e6f5d0"
            ],
            [
             0.7,
             "#b8e186"
            ],
            [
             0.8,
             "#7fbc41"
            ],
            [
             0.9,
             "#4d9221"
            ],
            [
             1,
             "#276419"
            ]
           ],
           "sequential": [
            [
             0,
             "#0d0887"
            ],
            [
             0.1111111111111111,
             "#46039f"
            ],
            [
             0.2222222222222222,
             "#7201a8"
            ],
            [
             0.3333333333333333,
             "#9c179e"
            ],
            [
             0.4444444444444444,
             "#bd3786"
            ],
            [
             0.5555555555555556,
             "#d8576b"
            ],
            [
             0.6666666666666666,
             "#ed7953"
            ],
            [
             0.7777777777777778,
             "#fb9f3a"
            ],
            [
             0.8888888888888888,
             "#fdca26"
            ],
            [
             1,
             "#f0f921"
            ]
           ],
           "sequentialminus": [
            [
             0,
             "#0d0887"
            ],
            [
             0.1111111111111111,
             "#46039f"
            ],
            [
             0.2222222222222222,
             "#7201a8"
            ],
            [
             0.3333333333333333,
             "#9c179e"
            ],
            [
             0.4444444444444444,
             "#bd3786"
            ],
            [
             0.5555555555555556,
             "#d8576b"
            ],
            [
             0.6666666666666666,
             "#ed7953"
            ],
            [
             0.7777777777777778,
             "#fb9f3a"
            ],
            [
             0.8888888888888888,
             "#fdca26"
            ],
            [
             1,
             "#f0f921"
            ]
           ]
          },
          "colorway": [
           "#636efa",
           "#EF553B",
           "#00cc96",
           "#ab63fa",
           "#FFA15A",
           "#19d3f3",
           "#FF6692",
           "#B6E880",
           "#FF97FF",
           "#FECB52"
          ],
          "font": {
           "color": "#2a3f5f"
          },
          "geo": {
           "bgcolor": "white",
           "lakecolor": "white",
           "landcolor": "#E5ECF6",
           "showlakes": true,
           "showland": true,
           "subunitcolor": "white"
          },
          "hoverlabel": {
           "align": "left"
          },
          "hovermode": "closest",
          "mapbox": {
           "style": "light"
          },
          "paper_bgcolor": "white",
          "plot_bgcolor": "#E5ECF6",
          "polar": {
           "angularaxis": {
            "gridcolor": "white",
            "linecolor": "white",
            "ticks": ""
           },
           "bgcolor": "#E5ECF6",
           "radialaxis": {
            "gridcolor": "white",
            "linecolor": "white",
            "ticks": ""
           }
          },
          "scene": {
           "xaxis": {
            "backgroundcolor": "#E5ECF6",
            "gridcolor": "white",
            "gridwidth": 2,
            "linecolor": "white",
            "showbackground": true,
            "ticks": "",
            "zerolinecolor": "white"
           },
           "yaxis": {
            "backgroundcolor": "#E5ECF6",
            "gridcolor": "white",
            "gridwidth": 2,
            "linecolor": "white",
            "showbackground": true,
            "ticks": "",
            "zerolinecolor": "white"
           },
           "zaxis": {
            "backgroundcolor": "#E5ECF6",
            "gridcolor": "white",
            "gridwidth": 2,
            "linecolor": "white",
            "showbackground": true,
            "ticks": "",
            "zerolinecolor": "white"
           }
          },
          "shapedefaults": {
           "line": {
            "color": "#2a3f5f"
           }
          },
          "ternary": {
           "aaxis": {
            "gridcolor": "white",
            "linecolor": "white",
            "ticks": ""
           },
           "baxis": {
            "gridcolor": "white",
            "linecolor": "white",
            "ticks": ""
           },
           "bgcolor": "#E5ECF6",
           "caxis": {
            "gridcolor": "white",
            "linecolor": "white",
            "ticks": ""
           }
          },
          "title": {
           "x": 0.05
          },
          "xaxis": {
           "automargin": true,
           "gridcolor": "white",
           "linecolor": "white",
           "ticks": "",
           "title": {
            "standoff": 15
           },
           "zerolinecolor": "white",
           "zerolinewidth": 2
          },
          "yaxis": {
           "automargin": true,
           "gridcolor": "white",
           "linecolor": "white",
           "ticks": "",
           "title": {
            "standoff": 15
           },
           "zerolinecolor": "white",
           "zerolinewidth": 2
          }
         }
        },
        "title": {
         "text": "Correlation Plot of daily_weather"
        },
        "xaxis": {
         "anchor": "y",
         "constrain": "domain",
         "domain": [
          0,
          1
         ],
         "scaleanchor": "y"
        },
        "yaxis": {
         "anchor": "x",
         "autorange": "reversed",
         "constrain": "domain",
         "domain": [
          0,
          1
         ]
        }
       }
      }
     },
     "metadata": {},
     "output_type": "display_data"
    }
   ],
   "source": [
    "px.imshow(daily_weather.corr(), title=\"Correlation Plot of daily_weather\")"
   ]
  },
  {
   "cell_type": "code",
   "execution_count": 30,
   "id": "ace3902c",
   "metadata": {},
   "outputs": [
    {
     "data": {
      "application/vnd.plotly.v1+json": {
       "config": {
        "plotlyServerURL": "https://plot.ly"
       },
       "data": [
        {
         "coloraxis": "coloraxis",
         "hovertemplate": "x: %{x}<br>y: %{y}<br>color: %{z}<extra></extra>",
         "name": "0",
         "type": "heatmap",
         "x": [
          "ds",
          "temperature_2m",
          "relative_humidity_2m",
          "precipitation",
          "weather_code",
          "surface_pressure",
          "cloud_cover",
          "wind_speed_10m",
          "wind_direction_10m",
          "wind_gusts_10m"
         ],
         "xaxis": "x",
         "y": [
          "ds",
          "temperature_2m",
          "relative_humidity_2m",
          "precipitation",
          "weather_code",
          "surface_pressure",
          "cloud_cover",
          "wind_speed_10m",
          "wind_direction_10m",
          "wind_gusts_10m"
         ],
         "yaxis": "y",
         "z": [
          [
           1,
           0.035077534886352985,
           -0.03437554558530039,
           -0.00953749024411844,
           -0.00611000448108654,
           0.025212605595831186,
           -0.026923082867060306,
           0.006509011813076609,
           -0.01690584625246281,
           -0.00716744433229144
          ],
          [
           0.035077534886352985,
           1,
           -0.5125660220323434,
           0.03489532516181305,
           -0.13169775172886714,
           -0.22991992070015124,
           -0.42380935759626975,
           -0.1444401990651015,
           -0.04796667349811493,
           -0.008015973833701347
          ],
          [
           -0.03437554558530039,
           -0.5125660220323434,
           1,
           0.1673963068401058,
           0.26608669619540615,
           -0.0960609460624348,
           0.4365742306243076,
           -0.049851306180952244,
           0.0762980552087679,
           -0.19844627350917193
          ],
          [
           -0.00953749024411844,
           0.03489532516181305,
           0.1673963068401058,
           1,
           0.5665406283522328,
           -0.21329094890870678,
           0.19814763914046485,
           0.11637319762953999,
           -0.005660067161828504,
           0.14970581853656903
          ],
          [
           -0.00611000448108654,
           -0.13169775172886714,
           0.26608669619540615,
           0.5665406283522328,
           1,
           -0.2808484753009914,
           0.4100042781289203,
           0.21082814752578768,
           0.017913292833041335,
           0.22614693708228684
          ],
          [
           0.025212605595831186,
           -0.22991992070015124,
           -0.0960609460624348,
           -0.21329094890870678,
           -0.2808484753009914,
           1,
           -0.15298504167150415,
           -0.2491073494829431,
           -0.1519879975736411,
           -0.2681066030365342
          ],
          [
           -0.026923082867060306,
           -0.42380935759626975,
           0.4365742306243076,
           0.19814763914046485,
           0.4100042781289203,
           -0.15298504167150415,
           1,
           0.23507947908640134,
           0.06289725764988165,
           0.2116494578470284
          ],
          [
           0.006509011813076609,
           -0.1444401990651015,
           -0.049851306180952244,
           0.11637319762953999,
           0.21082814752578768,
           -0.2491073494829431,
           0.23507947908640134,
           1,
           0.15846753150876,
           0.9342431231084712
          ],
          [
           -0.01690584625246281,
           -0.04796667349811493,
           0.0762980552087679,
           -0.005660067161828504,
           0.017913292833041335,
           -0.1519879975736411,
           0.06289725764988165,
           0.15846753150876,
           1,
           0.16146289219110313
          ],
          [
           -0.00716744433229144,
           -0.008015973833701347,
           -0.19844627350917193,
           0.14970581853656903,
           0.22614693708228684,
           -0.2681066030365342,
           0.2116494578470284,
           0.9342431231084712,
           0.16146289219110313,
           1
          ]
         ]
        }
       ],
       "layout": {
        "coloraxis": {
         "colorscale": [
          [
           0,
           "#0d0887"
          ],
          [
           0.1111111111111111,
           "#46039f"
          ],
          [
           0.2222222222222222,
           "#7201a8"
          ],
          [
           0.3333333333333333,
           "#9c179e"
          ],
          [
           0.4444444444444444,
           "#bd3786"
          ],
          [
           0.5555555555555556,
           "#d8576b"
          ],
          [
           0.6666666666666666,
           "#ed7953"
          ],
          [
           0.7777777777777778,
           "#fb9f3a"
          ],
          [
           0.8888888888888888,
           "#fdca26"
          ],
          [
           1,
           "#f0f921"
          ]
         ]
        },
        "template": {
         "data": {
          "bar": [
           {
            "error_x": {
             "color": "#2a3f5f"
            },
            "error_y": {
             "color": "#2a3f5f"
            },
            "marker": {
             "line": {
              "color": "#E5ECF6",
              "width": 0.5
             },
             "pattern": {
              "fillmode": "overlay",
              "size": 10,
              "solidity": 0.2
             }
            },
            "type": "bar"
           }
          ],
          "barpolar": [
           {
            "marker": {
             "line": {
              "color": "#E5ECF6",
              "width": 0.5
             },
             "pattern": {
              "fillmode": "overlay",
              "size": 10,
              "solidity": 0.2
             }
            },
            "type": "barpolar"
           }
          ],
          "carpet": [
           {
            "aaxis": {
             "endlinecolor": "#2a3f5f",
             "gridcolor": "white",
             "linecolor": "white",
             "minorgridcolor": "white",
             "startlinecolor": "#2a3f5f"
            },
            "baxis": {
             "endlinecolor": "#2a3f5f",
             "gridcolor": "white",
             "linecolor": "white",
             "minorgridcolor": "white",
             "startlinecolor": "#2a3f5f"
            },
            "type": "carpet"
           }
          ],
          "choropleth": [
           {
            "colorbar": {
             "outlinewidth": 0,
             "ticks": ""
            },
            "type": "choropleth"
           }
          ],
          "contour": [
           {
            "colorbar": {
             "outlinewidth": 0,
             "ticks": ""
            },
            "colorscale": [
             [
              0,
              "#0d0887"
             ],
             [
              0.1111111111111111,
              "#46039f"
             ],
             [
              0.2222222222222222,
              "#7201a8"
             ],
             [
              0.3333333333333333,
              "#9c179e"
             ],
             [
              0.4444444444444444,
              "#bd3786"
             ],
             [
              0.5555555555555556,
              "#d8576b"
             ],
             [
              0.6666666666666666,
              "#ed7953"
             ],
             [
              0.7777777777777778,
              "#fb9f3a"
             ],
             [
              0.8888888888888888,
              "#fdca26"
             ],
             [
              1,
              "#f0f921"
             ]
            ],
            "type": "contour"
           }
          ],
          "contourcarpet": [
           {
            "colorbar": {
             "outlinewidth": 0,
             "ticks": ""
            },
            "type": "contourcarpet"
           }
          ],
          "heatmap": [
           {
            "colorbar": {
             "outlinewidth": 0,
             "ticks": ""
            },
            "colorscale": [
             [
              0,
              "#0d0887"
             ],
             [
              0.1111111111111111,
              "#46039f"
             ],
             [
              0.2222222222222222,
              "#7201a8"
             ],
             [
              0.3333333333333333,
              "#9c179e"
             ],
             [
              0.4444444444444444,
              "#bd3786"
             ],
             [
              0.5555555555555556,
              "#d8576b"
             ],
             [
              0.6666666666666666,
              "#ed7953"
             ],
             [
              0.7777777777777778,
              "#fb9f3a"
             ],
             [
              0.8888888888888888,
              "#fdca26"
             ],
             [
              1,
              "#f0f921"
             ]
            ],
            "type": "heatmap"
           }
          ],
          "heatmapgl": [
           {
            "colorbar": {
             "outlinewidth": 0,
             "ticks": ""
            },
            "colorscale": [
             [
              0,
              "#0d0887"
             ],
             [
              0.1111111111111111,
              "#46039f"
             ],
             [
              0.2222222222222222,
              "#7201a8"
             ],
             [
              0.3333333333333333,
              "#9c179e"
             ],
             [
              0.4444444444444444,
              "#bd3786"
             ],
             [
              0.5555555555555556,
              "#d8576b"
             ],
             [
              0.6666666666666666,
              "#ed7953"
             ],
             [
              0.7777777777777778,
              "#fb9f3a"
             ],
             [
              0.8888888888888888,
              "#fdca26"
             ],
             [
              1,
              "#f0f921"
             ]
            ],
            "type": "heatmapgl"
           }
          ],
          "histogram": [
           {
            "marker": {
             "pattern": {
              "fillmode": "overlay",
              "size": 10,
              "solidity": 0.2
             }
            },
            "type": "histogram"
           }
          ],
          "histogram2d": [
           {
            "colorbar": {
             "outlinewidth": 0,
             "ticks": ""
            },
            "colorscale": [
             [
              0,
              "#0d0887"
             ],
             [
              0.1111111111111111,
              "#46039f"
             ],
             [
              0.2222222222222222,
              "#7201a8"
             ],
             [
              0.3333333333333333,
              "#9c179e"
             ],
             [
              0.4444444444444444,
              "#bd3786"
             ],
             [
              0.5555555555555556,
              "#d8576b"
             ],
             [
              0.6666666666666666,
              "#ed7953"
             ],
             [
              0.7777777777777778,
              "#fb9f3a"
             ],
             [
              0.8888888888888888,
              "#fdca26"
             ],
             [
              1,
              "#f0f921"
             ]
            ],
            "type": "histogram2d"
           }
          ],
          "histogram2dcontour": [
           {
            "colorbar": {
             "outlinewidth": 0,
             "ticks": ""
            },
            "colorscale": [
             [
              0,
              "#0d0887"
             ],
             [
              0.1111111111111111,
              "#46039f"
             ],
             [
              0.2222222222222222,
              "#7201a8"
             ],
             [
              0.3333333333333333,
              "#9c179e"
             ],
             [
              0.4444444444444444,
              "#bd3786"
             ],
             [
              0.5555555555555556,
              "#d8576b"
             ],
             [
              0.6666666666666666,
              "#ed7953"
             ],
             [
              0.7777777777777778,
              "#fb9f3a"
             ],
             [
              0.8888888888888888,
              "#fdca26"
             ],
             [
              1,
              "#f0f921"
             ]
            ],
            "type": "histogram2dcontour"
           }
          ],
          "mesh3d": [
           {
            "colorbar": {
             "outlinewidth": 0,
             "ticks": ""
            },
            "type": "mesh3d"
           }
          ],
          "parcoords": [
           {
            "line": {
             "colorbar": {
              "outlinewidth": 0,
              "ticks": ""
             }
            },
            "type": "parcoords"
           }
          ],
          "pie": [
           {
            "automargin": true,
            "type": "pie"
           }
          ],
          "scatter": [
           {
            "fillpattern": {
             "fillmode": "overlay",
             "size": 10,
             "solidity": 0.2
            },
            "type": "scatter"
           }
          ],
          "scatter3d": [
           {
            "line": {
             "colorbar": {
              "outlinewidth": 0,
              "ticks": ""
             }
            },
            "marker": {
             "colorbar": {
              "outlinewidth": 0,
              "ticks": ""
             }
            },
            "type": "scatter3d"
           }
          ],
          "scattercarpet": [
           {
            "marker": {
             "colorbar": {
              "outlinewidth": 0,
              "ticks": ""
             }
            },
            "type": "scattercarpet"
           }
          ],
          "scattergeo": [
           {
            "marker": {
             "colorbar": {
              "outlinewidth": 0,
              "ticks": ""
             }
            },
            "type": "scattergeo"
           }
          ],
          "scattergl": [
           {
            "marker": {
             "colorbar": {
              "outlinewidth": 0,
              "ticks": ""
             }
            },
            "type": "scattergl"
           }
          ],
          "scattermapbox": [
           {
            "marker": {
             "colorbar": {
              "outlinewidth": 0,
              "ticks": ""
             }
            },
            "type": "scattermapbox"
           }
          ],
          "scatterpolar": [
           {
            "marker": {
             "colorbar": {
              "outlinewidth": 0,
              "ticks": ""
             }
            },
            "type": "scatterpolar"
           }
          ],
          "scatterpolargl": [
           {
            "marker": {
             "colorbar": {
              "outlinewidth": 0,
              "ticks": ""
             }
            },
            "type": "scatterpolargl"
           }
          ],
          "scatterternary": [
           {
            "marker": {
             "colorbar": {
              "outlinewidth": 0,
              "ticks": ""
             }
            },
            "type": "scatterternary"
           }
          ],
          "surface": [
           {
            "colorbar": {
             "outlinewidth": 0,
             "ticks": ""
            },
            "colorscale": [
             [
              0,
              "#0d0887"
             ],
             [
              0.1111111111111111,
              "#46039f"
             ],
             [
              0.2222222222222222,
              "#7201a8"
             ],
             [
              0.3333333333333333,
              "#9c179e"
             ],
             [
              0.4444444444444444,
              "#bd3786"
             ],
             [
              0.5555555555555556,
              "#d8576b"
             ],
             [
              0.6666666666666666,
              "#ed7953"
             ],
             [
              0.7777777777777778,
              "#fb9f3a"
             ],
             [
              0.8888888888888888,
              "#fdca26"
             ],
             [
              1,
              "#f0f921"
             ]
            ],
            "type": "surface"
           }
          ],
          "table": [
           {
            "cells": {
             "fill": {
              "color": "#EBF0F8"
             },
             "line": {
              "color": "white"
             }
            },
            "header": {
             "fill": {
              "color": "#C8D4E3"
             },
             "line": {
              "color": "white"
             }
            },
            "type": "table"
           }
          ]
         },
         "layout": {
          "annotationdefaults": {
           "arrowcolor": "#2a3f5f",
           "arrowhead": 0,
           "arrowwidth": 1
          },
          "autotypenumbers": "strict",
          "coloraxis": {
           "colorbar": {
            "outlinewidth": 0,
            "ticks": ""
           }
          },
          "colorscale": {
           "diverging": [
            [
             0,
             "#8e0152"
            ],
            [
             0.1,
             "#c51b7d"
            ],
            [
             0.2,
             "#de77ae"
            ],
            [
             0.3,
             "#f1b6da"
            ],
            [
             0.4,
             "#fde0ef"
            ],
            [
             0.5,
             "#f7f7f7"
            ],
            [
             0.6,
             "#e6f5d0"
            ],
            [
             0.7,
             "#b8e186"
            ],
            [
             0.8,
             "#7fbc41"
            ],
            [
             0.9,
             "#4d9221"
            ],
            [
             1,
             "#276419"
            ]
           ],
           "sequential": [
            [
             0,
             "#0d0887"
            ],
            [
             0.1111111111111111,
             "#46039f"
            ],
            [
             0.2222222222222222,
             "#7201a8"
            ],
            [
             0.3333333333333333,
             "#9c179e"
            ],
            [
             0.4444444444444444,
             "#bd3786"
            ],
            [
             0.5555555555555556,
             "#d8576b"
            ],
            [
             0.6666666666666666,
             "#ed7953"
            ],
            [
             0.7777777777777778,
             "#fb9f3a"
            ],
            [
             0.8888888888888888,
             "#fdca26"
            ],
            [
             1,
             "#f0f921"
            ]
           ],
           "sequentialminus": [
            [
             0,
             "#0d0887"
            ],
            [
             0.1111111111111111,
             "#46039f"
            ],
            [
             0.2222222222222222,
             "#7201a8"
            ],
            [
             0.3333333333333333,
             "#9c179e"
            ],
            [
             0.4444444444444444,
             "#bd3786"
            ],
            [
             0.5555555555555556,
             "#d8576b"
            ],
            [
             0.6666666666666666,
             "#ed7953"
            ],
            [
             0.7777777777777778,
             "#fb9f3a"
            ],
            [
             0.8888888888888888,
             "#fdca26"
            ],
            [
             1,
             "#f0f921"
            ]
           ]
          },
          "colorway": [
           "#636efa",
           "#EF553B",
           "#00cc96",
           "#ab63fa",
           "#FFA15A",
           "#19d3f3",
           "#FF6692",
           "#B6E880",
           "#FF97FF",
           "#FECB52"
          ],
          "font": {
           "color": "#2a3f5f"
          },
          "geo": {
           "bgcolor": "white",
           "lakecolor": "white",
           "landcolor": "#E5ECF6",
           "showlakes": true,
           "showland": true,
           "subunitcolor": "white"
          },
          "hoverlabel": {
           "align": "left"
          },
          "hovermode": "closest",
          "mapbox": {
           "style": "light"
          },
          "paper_bgcolor": "white",
          "plot_bgcolor": "#E5ECF6",
          "polar": {
           "angularaxis": {
            "gridcolor": "white",
            "linecolor": "white",
            "ticks": ""
           },
           "bgcolor": "#E5ECF6",
           "radialaxis": {
            "gridcolor": "white",
            "linecolor": "white",
            "ticks": ""
           }
          },
          "scene": {
           "xaxis": {
            "backgroundcolor": "#E5ECF6",
            "gridcolor": "white",
            "gridwidth": 2,
            "linecolor": "white",
            "showbackground": true,
            "ticks": "",
            "zerolinecolor": "white"
           },
           "yaxis": {
            "backgroundcolor": "#E5ECF6",
            "gridcolor": "white",
            "gridwidth": 2,
            "linecolor": "white",
            "showbackground": true,
            "ticks": "",
            "zerolinecolor": "white"
           },
           "zaxis": {
            "backgroundcolor": "#E5ECF6",
            "gridcolor": "white",
            "gridwidth": 2,
            "linecolor": "white",
            "showbackground": true,
            "ticks": "",
            "zerolinecolor": "white"
           }
          },
          "shapedefaults": {
           "line": {
            "color": "#2a3f5f"
           }
          },
          "ternary": {
           "aaxis": {
            "gridcolor": "white",
            "linecolor": "white",
            "ticks": ""
           },
           "baxis": {
            "gridcolor": "white",
            "linecolor": "white",
            "ticks": ""
           },
           "bgcolor": "#E5ECF6",
           "caxis": {
            "gridcolor": "white",
            "linecolor": "white",
            "ticks": ""
           }
          },
          "title": {
           "x": 0.05
          },
          "xaxis": {
           "automargin": true,
           "gridcolor": "white",
           "linecolor": "white",
           "ticks": "",
           "title": {
            "standoff": 15
           },
           "zerolinecolor": "white",
           "zerolinewidth": 2
          },
          "yaxis": {
           "automargin": true,
           "gridcolor": "white",
           "linecolor": "white",
           "ticks": "",
           "title": {
            "standoff": 15
           },
           "zerolinecolor": "white",
           "zerolinewidth": 2
          }
         }
        },
        "title": {
         "text": "Correlation Plot of hourly_weather"
        },
        "xaxis": {
         "anchor": "y",
         "constrain": "domain",
         "domain": [
          0,
          1
         ],
         "scaleanchor": "y"
        },
        "yaxis": {
         "anchor": "x",
         "autorange": "reversed",
         "constrain": "domain",
         "domain": [
          0,
          1
         ]
        }
       }
      }
     },
     "metadata": {},
     "output_type": "display_data"
    }
   ],
   "source": [
    "px.imshow(hourly_weather.corr(), title=\"Correlation Plot of hourly_weather\")"
   ]
  },
  {
   "cell_type": "code",
   "execution_count": 31,
   "id": "a6d92bf0",
   "metadata": {},
   "outputs": [],
   "source": [
    "plt.figure()\n",
    "sns.pairplot(hourly_weather)\n",
    "plt.title(\"Looking for Insites in Data\")\n",
    "plt.tight_layout()\n",
    "plt.plot()"
   ]
  },
  {
   "cell_type": "code",
   "execution_count": null,
   "id": "6e0f5738",
   "metadata": {},
   "outputs": [],
   "source": [
    "plt.figure()\n",
    "sns.pairplot(daily_weather)\n",
    "plt.title(\"Looking for Insites in Data\")\n",
    "plt.tight_layout()\n",
    "plt.plot()"
   ]
  },
  {
   "cell_type": "code",
   "execution_count": null,
   "id": "720e5d6f",
   "metadata": {},
   "outputs": [
    {
     "name": "stdout",
     "output_type": "stream",
     "text": [
      "Коефіцієнт кореляції: 0.81035063546326\n",
      "p-значення: 1.0884036862475046e-117\n"
     ]
    }
   ],
   "source": [
    "import scipy.stats as stats\n",
    "\n",
    "corr, p_val = stats.pearsonr(df[\"Admission_Chance\"], df[\"GRE\"])\n",
    "\n",
    "print(f\"Коефіцієнт кореляції: {corr}\")\n",
    "print(f\"p-значення: {p_val}\")"
   ]
  },
  {
   "cell_type": "code",
   "execution_count": null,
   "id": "ca30254c",
   "metadata": {},
   "outputs": [
    {
     "name": "stdout",
     "output_type": "stream",
     "text": [
      "Коефіцієнт кореляції: 0.792227614305083\n",
      "p-значення: 6.729926762328514e-109\n"
     ]
    }
   ],
   "source": [
    "corr, p_val = stats.pearsonr(df[\"Admission_Chance\"], df[\"TOEFL\"])\n",
    "\n",
    "print(f\"Коефіцієнт кореляції: {corr}\")\n",
    "print(f\"p-значення: {p_val}\")"
   ]
  },
  {
   "cell_type": "code",
   "execution_count": null,
   "id": "ebedb982",
   "metadata": {},
   "outputs": [
    {
     "name": "stdout",
     "output_type": "stream",
     "text": [
      "Коефіцієнт кореляції: 0.8824125749045744\n",
      "p-значення: 3.3965448587106127e-165\n"
     ]
    }
   ],
   "source": [
    "corr, p_val = stats.pearsonr(df[\"Admission_Chance\"], df[\"CGPA_Score\"])\n",
    "\n",
    "print(f\"Коефіцієнт кореляції: {corr}\")\n",
    "print(f\"p-значення: {p_val}\")"
   ]
  }
 ],
 "metadata": {
  "kernelspec": {
   "display_name": "Python 3 (ipykernel)",
   "language": "python",
   "name": "python3"
  },
  "language_info": {
   "codemirror_mode": {
    "name": "ipython",
    "version": 3
   },
   "file_extension": ".py",
   "mimetype": "text/x-python",
   "name": "python",
   "nbconvert_exporter": "python",
   "pygments_lexer": "ipython3",
   "version": "3.11.7"
  }
 },
 "nbformat": 4,
 "nbformat_minor": 5
}
